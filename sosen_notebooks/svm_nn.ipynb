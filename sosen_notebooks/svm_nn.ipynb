{
 "cells": [
  {
   "cell_type": "markdown",
   "metadata": {},
   "source": [
    "## Setup"
   ]
  },
  {
   "cell_type": "code",
   "execution_count": 32,
   "metadata": {},
   "outputs": [],
   "source": [
    "%run code.py\n",
    "%matplotlib inline\n",
    "time_all_start = datetime.now()"
   ]
  },
  {
   "cell_type": "code",
   "execution_count": 33,
   "metadata": {},
   "outputs": [],
   "source": [
    "# file and tree names\n",
    "\n",
    "# MC\n",
    "sig_file_name = 'data/all_el.root'\n",
    "bkg_file_name = 'data/all_mu.root'\n",
    "sig_tree  = 'electron_mc'\n",
    "bkg_tree  = 'muon_mc'\n",
    "\n",
    "# data\n",
    "# sig_tree  = 'electron_tags'\n",
    "# bkg_tree  = 'muons'"
   ]
  },
  {
   "cell_type": "code",
   "execution_count": 44,
   "metadata": {},
   "outputs": [],
   "source": [
    "# other settings\n",
    "\n",
    "fit_verbose = 1\n",
    "\n",
    "# max_epochs = 100\n",
    "max_epochs = 200\n",
    "\n",
    "rnd_seed = 7\n",
    "\n",
    "plot_mi = True"
   ]
  },
  {
   "cell_type": "markdown",
   "metadata": {},
   "source": [
    "## Setup variables to train on"
   ]
  },
  {
   "cell_type": "code",
   "execution_count": 8,
   "metadata": {},
   "outputs": [
    {
     "name": "stdout",
     "output_type": "stream",
     "text": [
      "['p', 'pT', 'eta', 'nTRThitsMan', 'nTRTouts', 'fHTMB', 'fAr', 'trkOcc', 'sumToTsumL']\n"
     ]
    }
   ],
   "source": [
    "input_variables = OrderedDict([\n",
    "    ('p',['$p$','default']),\n",
    "    ('pT',['$p_{\\mathrm{T}}$','default']),\n",
    "    ('eta',['$\\eta$','symmetric']),\n",
    "    ('nTRThitsMan',['nTRT','default']),\n",
    "    ('nTRTouts',['nTRT outs','default']),\n",
    "    ('fHTMB',['Fraction HTMB','default']),\n",
    "    ('fAr',['Fraction Ar','default']),\n",
    "    ('trkOcc',['Track Occ.','default']),\n",
    "    ('sumToTsumL',['$\\sum\\mathrm{ToT} / \\sum L$','default']),\n",
    "#    ('lep_pT',['$p_{\\mathrm{T}}^{\\mathrm{lep}}$','default']),\n",
    "#    ('phi',['$\\phi$','default']),\n",
    "])\n",
    "\n",
    "## vars to test\n",
    "# PHF\n",
    "# NhitsdEdx\n",
    "\n",
    "# sumToT, sumL\n",
    "\n",
    "# try adding eProbHT to see what else the network has learned\n",
    "\n",
    "# all the hit vars, arrays of length 40 for use in RNN LSTM\n",
    "\n",
    "# uninteresting vars - info is already included elsewhere\n",
    "# nTRThits, nArhits, nXehits, nHThitsMan, nPrechitsMan\n",
    "print(list(input_variables))"
   ]
  },
  {
   "cell_type": "code",
   "execution_count": 9,
   "metadata": {},
   "outputs": [],
   "source": [
    "var_names_dict = {k:v[0] for (k,v) in input_variables.items()}"
   ]
  },
  {
   "cell_type": "code",
   "execution_count": 10,
   "metadata": {},
   "outputs": [],
   "source": [
    "var_comb_dir = ''\n",
    "for i,v in enumerate(input_variables.keys()):\n",
    "    if i != 0: var_comb_dir += '_'\n",
    "    var_comb_dir += v\n",
    "plots_path = 'plots/'+var_comb_dir\n",
    "models_path = 'models/'+var_comb_dir\n",
    "make_path(plots_path)\n",
    "make_path(models_path)"
   ]
  },
  {
   "cell_type": "code",
   "execution_count": 16,
   "metadata": {},
   "outputs": [],
   "source": [
    "# df_sig, df_bkg, X_train, X_test, y_train, y_test = create_df_tts_scale(\n",
    "#    sig_file_name, sig_tree, bkg_file_name, bkg_tree,\n",
    "#    list(input_variables),\n",
    "#    test_size=0.2,\n",
    "#    # test_size=0.333333,\n",
    "#    # sig_n=50000,\n",
    "#    # bkg_n=50000,\n",
    "#    shuffle=True,\n",
    "#    scale_style={i:v[1] for i,(_,v) in enumerate(input_variables.items())}\n",
    "# )\n",
    "\n",
    "df_sig, df_bkg, X_train, X_test, y_train, y_test = create_fixed_test_shuffled_train_and_scale(\n",
    "    sig_file_name, sig_tree, bkg_file_name, bkg_tree,\n",
    "    list(input_variables),\n",
    "    test_size=0.2,\n",
    "    # test_size=0.333333,\n",
    "    # sig_n=50000,\n",
    "    # bkg_n=50000,\n",
    "    scale_style={i:v[1] for i,(_,v) in enumerate(input_variables.items())},\n",
    "    rnd_seed = rnd_seed\n",
    ")\n",
    "\n",
    "# val_data=None\n",
    "val_data=(X_test, y_test) # TODO bad form?"
   ]
  },
  {
   "cell_type": "code",
   "execution_count": 17,
   "metadata": {},
   "outputs": [
    {
     "name": "stdout",
     "output_type": "stream",
     "text": [
      "Training on m = 1.4e+06 leptons\n",
      "Testing on 2.9e+05 leptons (50/50 e/mu)\n",
      "Number of input variables n = 9\n"
     ]
    }
   ],
   "source": [
    "input_ndimensions = X_train.shape[1]\n",
    "leptons_m = y_train.shape[0]\n",
    "\n",
    "print(\"Training on m = %.2g leptons\\nTesting on %.2g leptons (50/50 e/mu)\\nNumber of input variables n = %d\" % (leptons_m, y_test.shape[0], input_ndimensions))"
   ]
  },
  {
   "cell_type": "code",
   "execution_count": 18,
   "metadata": {},
   "outputs": [],
   "source": [
    "if False:\n",
    "    print(df_sig.head(3))\n",
    "    print(X_train.shape)\n",
    "    print(X_train[:2])"
   ]
  },
  {
   "cell_type": "markdown",
   "metadata": {},
   "source": [
    "## Create eProbabilityHT curves"
   ]
  },
  {
   "cell_type": "code",
   "execution_count": 19,
   "metadata": {},
   "outputs": [
    {
     "name": "stdout",
     "output_type": "stream",
     "text": [
      "Using 7.2e+05 el, 7.2e+05 mu for eProbHT\n"
     ]
    }
   ],
   "source": [
    "# TODO this technically has the issue with the high pT events, but shouldn't actually be visible on plots\n",
    "el_eprob = uproot.open(sig_file_name)[sig_tree].array('eProbHT')\n",
    "mu_eprob = uproot.open(bkg_file_name)[bkg_tree].array('eProbHT')\n",
    "\n",
    "m_eprob = min(el_eprob.shape[0], mu_eprob.shape[0])\n",
    "el_eprob = el_eprob[:m_eprob]\n",
    "mu_eprob = mu_eprob[:m_eprob]\n",
    "print('Using %.2g el, %.2g mu for eProbHT' % (el_eprob.shape[0], mu_eprob.shape[0]))\n",
    "\n",
    "roc_eprob_obj = eprob_roc_generateor(el_eprob, mu_eprob)\n",
    "\n",
    "roc_eprob = [roc_eprob_obj.tpr(), roc_eprob_obj.fpr(), 'eProbHT', 'eprob', 'black', '-']"
   ]
  },
  {
   "cell_type": "markdown",
   "metadata": {},
   "source": [
    "## Plot input variables"
   ]
  },
  {
   "cell_type": "code",
   "execution_count": 11,
   "metadata": {},
   "outputs": [
    {
     "data": {
      "image/png": "[encoded data removed]",
      "text/plain": [
       "<matplotlib.figure.Figure at 0x7fb29a493f10>"
      ]
     },
     "metadata": {},
     "output_type": "display_data"
    }
   ],
   "source": [
    "plot_all_input_vars(input_variables, X_train, y_train, plots_path)"
   ]
  },
  {
   "cell_type": "code",
   "execution_count": 20,
   "metadata": {},
   "outputs": [
    {
     "ename": "ValueError",
     "evalue": "'lep_pT' is not in list",
     "output_type": "error",
     "traceback": [
      "\u001b[0;31m---------------------------------------------------------------------------\u001b[0m",
      "\u001b[0;31mValueError\u001b[0m                                Traceback (most recent call last)",
      "\u001b[0;32m<ipython-input-20-fe1b0472554c>\u001b[0m in \u001b[0;36m<module>\u001b[0;34m()\u001b[0m\n\u001b[1;32m      1\u001b[0m \u001b[0mlep_pT_bins\u001b[0m \u001b[0;34m=\u001b[0m \u001b[0;34m[\u001b[0m\u001b[0;36m0.0\u001b[0m\u001b[0;34m,\u001b[0m \u001b[0;36m0.025\u001b[0m\u001b[0;34m,\u001b[0m \u001b[0;36m0.05\u001b[0m\u001b[0;34m,\u001b[0m \u001b[0;36m0.075\u001b[0m\u001b[0;34m,\u001b[0m \u001b[0;36m0.1\u001b[0m\u001b[0;34m,\u001b[0m \u001b[0;36m0.125\u001b[0m\u001b[0;34m,\u001b[0m \u001b[0;36m0.15\u001b[0m\u001b[0;34m,\u001b[0m \u001b[0;36m0.175\u001b[0m\u001b[0;34m,\u001b[0m \u001b[0;36m0.2\u001b[0m\u001b[0;34m,\u001b[0m \u001b[0;36m0.4\u001b[0m\u001b[0;34m,\u001b[0m \u001b[0;36m1.0\u001b[0m\u001b[0;34m]\u001b[0m\u001b[0;34m\u001b[0m\u001b[0m\n\u001b[1;32m      2\u001b[0m slice_and_plot_all_input_vars('lep_pT', '$p_{\\mathrm{T}}^{\\mathrm{lep}}$', lep_pT_bins, \n\u001b[0;32m----> 3\u001b[0;31m                               input_variables, X_train, y_train, plots_path)\n\u001b[0m",
      "\u001b[0;32m/home/supers/trtmachana/trtmachana/sosen_notebooks/code.py\u001b[0m in \u001b[0;36mslice_and_plot_all_input_vars\u001b[0;34m(cut_var, nname, bins, input_variables, X_train, y_train, m_path)\u001b[0m\n\u001b[1;32m    266\u001b[0m \u001b[0;32mdef\u001b[0m \u001b[0mslice_and_plot_all_input_vars\u001b[0m\u001b[0;34m(\u001b[0m\u001b[0mcut_var\u001b[0m\u001b[0;34m,\u001b[0m \u001b[0mnname\u001b[0m\u001b[0;34m,\u001b[0m \u001b[0mbins\u001b[0m\u001b[0;34m,\u001b[0m \u001b[0minput_variables\u001b[0m\u001b[0;34m,\u001b[0m \u001b[0mX_train\u001b[0m\u001b[0;34m,\u001b[0m \u001b[0my_train\u001b[0m\u001b[0;34m,\u001b[0m \u001b[0mm_path\u001b[0m\u001b[0;34m)\u001b[0m\u001b[0;34m:\u001b[0m\u001b[0;34m\u001b[0m\u001b[0m\n\u001b[1;32m    267\u001b[0m     \u001b[0mvar_names\u001b[0m \u001b[0;34m=\u001b[0m \u001b[0mlist\u001b[0m\u001b[0;34m(\u001b[0m\u001b[0minput_variables\u001b[0m\u001b[0;34m)\u001b[0m\u001b[0;34m\u001b[0m\u001b[0m\n\u001b[0;32m--> 268\u001b[0;31m     \u001b[0mcut_index\u001b[0m \u001b[0;34m=\u001b[0m \u001b[0mvar_names\u001b[0m\u001b[0;34m.\u001b[0m\u001b[0mindex\u001b[0m\u001b[0;34m(\u001b[0m\u001b[0mcut_var\u001b[0m\u001b[0;34m)\u001b[0m\u001b[0;34m\u001b[0m\u001b[0m\n\u001b[0m\u001b[1;32m    269\u001b[0m \u001b[0;34m\u001b[0m\u001b[0m\n\u001b[1;32m    270\u001b[0m     \u001b[0;32mfor\u001b[0m \u001b[0mi\u001b[0m \u001b[0;32min\u001b[0m \u001b[0mrange\u001b[0m\u001b[0;34m(\u001b[0m\u001b[0mlen\u001b[0m\u001b[0;34m(\u001b[0m\u001b[0mbins\u001b[0m\u001b[0;34m)\u001b[0m\u001b[0;34m-\u001b[0m\u001b[0;36m1\u001b[0m\u001b[0;34m)\u001b[0m\u001b[0;34m:\u001b[0m\u001b[0;34m\u001b[0m\u001b[0m\n",
      "\u001b[0;31mValueError\u001b[0m: 'lep_pT' is not in list"
     ]
    }
   ],
   "source": [
    "lep_pT_bins = [0.0, 0.025, 0.05, 0.075, 0.1, 0.125, 0.15, 0.175, 0.2, 0.4, 1.0]\n",
    "slice_and_plot_all_input_vars('lep_pT', '$p_{\\mathrm{T}}^{\\mathrm{lep}}$', lep_pT_bins, \n",
    "                              input_variables, X_train, y_train, plots_path)"
   ]
  },
  {
   "cell_type": "code",
   "execution_count": 37,
   "metadata": {},
   "outputs": [],
   "source": [
    "# plot_scale_example(sig_file_name,sig_tree,plots_path,'p','$p$ [GeV]'\n",
    "# plot_scale_example(sig_file_name,sig_tree,plots_path,'pT','$p_{\\mathrm{T}}$ [GeV]')"
   ]
  },
  {
   "cell_type": "markdown",
   "metadata": {},
   "source": [
    "# SVM (sklearn)"
   ]
  },
  {
   "cell_type": "code",
   "execution_count": null,
   "metadata": {},
   "outputs": [],
   "source": [
    "svm_m = min(50000, y_train.shape[0])"
   ]
  },
  {
   "cell_type": "code",
   "execution_count": null,
   "metadata": {},
   "outputs": [],
   "source": [
    "fname_svm1 = 'svm1'\n",
    "train_load_svm1 = train_or_load(models_path+'/'+fname_svm1+'.pkl')"
   ]
  },
  {
   "cell_type": "code",
   "execution_count": null,
   "metadata": {},
   "outputs": [],
   "source": [
    "if train_load_svm1 == 'n':\n",
    "    \n",
    "    # create\n",
    "    svm1 = svm.SVC(#C=1.0, #kernel='rbf', #tol=0.001, #gamma='auto',\n",
    "    probability=True,\n",
    "    verbose=False);\n",
    "\n",
    "    # train\n",
    "    train_start = datetime.now()\n",
    "\n",
    "    svm1.fit(X_train[:svm_m],y_train[:svm_m]);\n",
    "\n",
    "    print(strfdelta(datetime.now()-train_start, \"Training time: {hours} hours, {minutes} minutes, {seconds} seconds\"))\n",
    "\n",
    "    # save model to pickle\n",
    "    joblib.dump(svm1, models_path+'/'+fname_svm1+'.pkl');\n",
    "    \n",
    "else:\n",
    "    # load model from pickle\n",
    "    svm1 = joblib.load(models_path+'/'+fname_svm1+'.pkl');"
   ]
  },
  {
   "cell_type": "code",
   "execution_count": null,
   "metadata": {},
   "outputs": [],
   "source": [
    "plot_classifier_1D_output(svm1.decision_function(X_test[y_test>0.5]), # el\n",
    "                          svm1.decision_function(X_test[y_test<0.5]), # mu\n",
    "                          'SVM', 'svm', plots_path\n",
    "                          #, 'Default sklearn.svm.SVC settings'\n",
    "                         )\n",
    "\n",
    "fpr_svm1, tpr_svm1, thresholds_svm1 = roc_curve(y_test, svm1.decision_function(X_test))\n",
    "roc_svm1 = [tpr_svm1, fpr_svm1, 'SVM', 'svm', 'blue', ':']\n",
    "\n",
    "plot_roc([roc_eprob, roc_svm1], plots_path)"
   ]
  },
  {
   "cell_type": "markdown",
   "metadata": {},
   "source": [
    "# Keras / Tensorflow work"
   ]
  },
  {
   "cell_type": "code",
   "execution_count": 38,
   "metadata": {},
   "outputs": [],
   "source": [
    "# fix random seed for reproducibility\n",
    "np.random.seed(rnd_seed)\n",
    "\n",
    "import warnings\n",
    "with warnings.catch_warnings():\n",
    "    warnings.filterwarnings(\"ignore\",category=FutureWarning)\n",
    "    from keras.models import Sequential\n",
    "    from keras.layers import Dense\n",
    "    from keras.models import load_model"
   ]
  },
  {
   "cell_type": "markdown",
   "metadata": {},
   "source": [
    "## Default"
   ]
  },
  {
   "cell_type": "code",
   "execution_count": 45,
   "metadata": {},
   "outputs": [
    {
     "name": "stdout",
     "output_type": "stream",
     "text": [
      "Model found on disk, load and continue (y)? If (n) will re-train: n\n",
      "\n",
      "Re-training model\n"
     ]
    }
   ],
   "source": [
    "fname_model_default = 'model_default'\n",
    "train_load_model_default = train_or_load(models_path+'/'+fname_model_default+'.h5')"
   ]
  },
  {
   "cell_type": "code",
   "execution_count": 46,
   "metadata": {},
   "outputs": [
    {
     "name": "stdout",
     "output_type": "stream",
     "text": [
      "Train on 1387623 samples, validate on 286530 samples\n",
      "Epoch 1/200\n",
      "1387623/1387623 [==============================] - 50s 36us/step - loss: 0.3952 - acc: 0.8208 - val_loss: 0.4050 - val_acc: 0.8127\n",
      "Epoch 2/200\n",
      "1387623/1387623 [==============================] - 49s 35us/step - loss: 0.3834 - acc: 0.8255 - val_loss: 0.4046 - val_acc: 0.8105\n",
      "Epoch 3/200\n",
      "1387623/1387623 [==============================] - 49s 36us/step - loss: 0.3819 - acc: 0.8262 - val_loss: 0.3981 - val_acc: 0.8152\n",
      "Epoch 4/200\n",
      "1387623/1387623 [==============================] - 49s 36us/step - loss: 0.3812 - acc: 0.8266 - val_loss: 0.3956 - val_acc: 0.8163\n",
      "Epoch 5/200\n",
      "1387623/1387623 [==============================] - 51s 37us/step - loss: 0.3808 - acc: 0.8268 - val_loss: 0.3966 - val_acc: 0.8154\n",
      "Epoch 6/200\n",
      "1387623/1387623 [==============================] - 51s 37us/step - loss: 0.3804 - acc: 0.8269 - val_loss: 0.3958 - val_acc: 0.8160\n",
      "Epoch 7/200\n",
      "1387623/1387623 [==============================] - 51s 37us/step - loss: 0.3802 - acc: 0.8270 - val_loss: 0.3957 - val_acc: 0.8162\n",
      "Epoch 8/200\n",
      "1387623/1387623 [==============================] - 51s 37us/step - loss: 0.3800 - acc: 0.8271 - val_loss: 0.3923 - val_acc: 0.8179\n",
      "Epoch 9/200\n",
      "1387623/1387623 [==============================] - 51s 37us/step - loss: 0.3798 - acc: 0.8273 - val_loss: 0.3900 - val_acc: 0.8193\n",
      "Epoch 10/200\n",
      "1387623/1387623 [==============================] - 51s 37us/step - loss: 0.3798 - acc: 0.8272 - val_loss: 0.3882 - val_acc: 0.8201\n",
      "Epoch 11/200\n",
      "1387623/1387623 [==============================] - 51s 37us/step - loss: 0.3797 - acc: 0.8273 - val_loss: 0.4149 - val_acc: 0.8056\n",
      "Epoch 12/200\n",
      "1387623/1387623 [==============================] - 52s 37us/step - loss: 0.3795 - acc: 0.8275 - val_loss: 0.3911 - val_acc: 0.8182\n",
      "Epoch 13/200\n",
      "1387623/1387623 [==============================] - 51s 37us/step - loss: 0.3795 - acc: 0.8276 - val_loss: 0.3891 - val_acc: 0.8203\n",
      "Epoch 14/200\n",
      "1387623/1387623 [==============================] - 51s 37us/step - loss: 0.3793 - acc: 0.8276 - val_loss: 0.3902 - val_acc: 0.8193\n",
      "Epoch 15/200\n",
      "1387623/1387623 [==============================] - 52s 37us/step - loss: 0.3792 - acc: 0.8276 - val_loss: 0.3960 - val_acc: 0.8162\n",
      "Epoch 16/200\n",
      "1387623/1387623 [==============================] - 51s 37us/step - loss: 0.3791 - acc: 0.8277 - val_loss: 0.3956 - val_acc: 0.8162\n",
      "Epoch 17/200\n",
      "1387623/1387623 [==============================] - 52s 37us/step - loss: 0.3791 - acc: 0.8276 - val_loss: 0.4005 - val_acc: 0.8130\n",
      "Epoch 18/200\n",
      "1387623/1387623 [==============================] - 54s 39us/step - loss: 0.3790 - acc: 0.8278 - val_loss: 0.3883 - val_acc: 0.8205\n",
      "Epoch 19/200\n",
      "1387623/1387623 [==============================] - 53s 38us/step - loss: 0.3790 - acc: 0.8278 - val_loss: 0.4034 - val_acc: 0.8123\n",
      "Epoch 20/200\n",
      "1387623/1387623 [==============================] - 53s 38us/step - loss: 0.3789 - acc: 0.8279 - val_loss: 0.3920 - val_acc: 0.8183\n",
      "Epoch 21/200\n",
      "1387623/1387623 [==============================] - 53s 38us/step - loss: 0.3788 - acc: 0.8277 - val_loss: 0.3966 - val_acc: 0.8152\n",
      "Epoch 22/200\n",
      "1387623/1387623 [==============================] - 54s 39us/step - loss: 0.3788 - acc: 0.8278 - val_loss: 0.3930 - val_acc: 0.8174\n",
      "Epoch 23/200\n",
      "1387623/1387623 [==============================] - 53s 38us/step - loss: 0.3788 - acc: 0.8277 - val_loss: 0.3985 - val_acc: 0.8143\n",
      "Epoch 24/200\n",
      "1387623/1387623 [==============================] - 54s 39us/step - loss: 0.3787 - acc: 0.8279 - val_loss: 0.3881 - val_acc: 0.8201\n",
      "Epoch 25/200\n",
      "1387623/1387623 [==============================] - 54s 39us/step - loss: 0.3787 - acc: 0.8280 - val_loss: 0.3907 - val_acc: 0.8190\n",
      "Epoch 26/200\n",
      "1387623/1387623 [==============================] - 54s 39us/step - loss: 0.3786 - acc: 0.8279 - val_loss: 0.4037 - val_acc: 0.8104\n",
      "Epoch 27/200\n",
      "1387623/1387623 [==============================] - 54s 39us/step - loss: 0.3786 - acc: 0.8280 - val_loss: 0.4003 - val_acc: 0.8130\n",
      "Epoch 28/200\n",
      "1387623/1387623 [==============================] - 55s 39us/step - loss: 0.3786 - acc: 0.8280 - val_loss: 0.3970 - val_acc: 0.8155\n",
      "Epoch 29/200\n",
      "1387623/1387623 [==============================] - 54s 39us/step - loss: 0.3785 - acc: 0.8280 - val_loss: 0.3948 - val_acc: 0.8162\n",
      "Epoch 30/200\n",
      "1387623/1387623 [==============================] - 54s 39us/step - loss: 0.3785 - acc: 0.8280 - val_loss: 0.3945 - val_acc: 0.8165\n",
      "Epoch 31/200\n",
      "1387623/1387623 [==============================] - 54s 39us/step - loss: 0.3785 - acc: 0.8279 - val_loss: 0.3969 - val_acc: 0.8144\n",
      "Epoch 32/200\n",
      "1387623/1387623 [==============================] - 55s 40us/step - loss: 0.3784 - acc: 0.8279 - val_loss: 0.3957 - val_acc: 0.8158\n",
      "Epoch 33/200\n",
      "1387623/1387623 [==============================] - 54s 39us/step - loss: 0.3784 - acc: 0.8280 - val_loss: 0.3944 - val_acc: 0.8153\n",
      "Epoch 34/200\n",
      "1387623/1387623 [==============================] - 54s 39us/step - loss: 0.3784 - acc: 0.8281 - val_loss: 0.3951 - val_acc: 0.8162\n",
      "Epoch 35/200\n",
      "1387623/1387623 [==============================] - 54s 39us/step - loss: 0.3783 - acc: 0.8279 - val_loss: 0.3976 - val_acc: 0.8151\n",
      "Epoch 36/200\n",
      "1387623/1387623 [==============================] - 53s 38us/step - loss: 0.3783 - acc: 0.8281 - val_loss: 0.3933 - val_acc: 0.8171\n",
      "Epoch 37/200\n",
      "1387623/1387623 [==============================] - 52s 37us/step - loss: 0.3783 - acc: 0.8281 - val_loss: 0.3963 - val_acc: 0.8158\n",
      "Epoch 38/200\n",
      "1387623/1387623 [==============================] - 52s 38us/step - loss: 0.3783 - acc: 0.8282 - val_loss: 0.3926 - val_acc: 0.8179\n",
      "Epoch 39/200\n",
      "1387623/1387623 [==============================] - 52s 37us/step - loss: 0.3783 - acc: 0.8282 - val_loss: 0.3896 - val_acc: 0.8197\n",
      "Epoch 40/200\n",
      "1387623/1387623 [==============================] - 52s 37us/step - loss: 0.3782 - acc: 0.8282 - val_loss: 0.3901 - val_acc: 0.8187\n",
      "Epoch 41/200\n",
      "1387623/1387623 [==============================] - 55s 40us/step - loss: 0.3782 - acc: 0.8281 - val_loss: 0.3924 - val_acc: 0.8174\n",
      "Epoch 42/200\n",
      "1387623/1387623 [==============================] - 58s 42us/step - loss: 0.3782 - acc: 0.8281 - val_loss: 0.4033 - val_acc: 0.8111\n",
      "Epoch 43/200\n",
      "1387623/1387623 [==============================] - 53s 38us/step - loss: 0.3782 - acc: 0.8281 - val_loss: 0.3963 - val_acc: 0.8155\n",
      "Epoch 44/200\n",
      "1387623/1387623 [==============================] - 53s 38us/step - loss: 0.3782 - acc: 0.8280 - val_loss: 0.3939 - val_acc: 0.8169\n",
      "Epoch 45/200\n",
      "1387623/1387623 [==============================] - 56s 40us/step - loss: 0.3782 - acc: 0.8280 - val_loss: 0.3919 - val_acc: 0.8181\n",
      "Epoch 46/200\n",
      "1387623/1387623 [==============================] - 52s 38us/step - loss: 0.3781 - acc: 0.8281 - val_loss: 0.3912 - val_acc: 0.8182\n",
      "Epoch 47/200\n",
      "1387623/1387623 [==============================] - 52s 38us/step - loss: 0.3781 - acc: 0.8282 - val_loss: 0.3989 - val_acc: 0.8137\n",
      "Epoch 48/200\n",
      "1387623/1387623 [==============================] - 52s 38us/step - loss: 0.3781 - acc: 0.8283 - val_loss: 0.3945 - val_acc: 0.8165\n",
      "Epoch 49/200\n",
      "1387623/1387623 [==============================] - 52s 38us/step - loss: 0.3781 - acc: 0.8282 - val_loss: 0.3888 - val_acc: 0.8196\n",
      "Epoch 50/200\n",
      "1387623/1387623 [==============================] - 53s 38us/step - loss: 0.3781 - acc: 0.8281 - val_loss: 0.3987 - val_acc: 0.8146\n",
      "Epoch 51/200\n",
      "1387623/1387623 [==============================] - 53s 38us/step - loss: 0.3781 - acc: 0.8283 - val_loss: 0.3905 - val_acc: 0.8188\n",
      "Epoch 52/200\n",
      "1387623/1387623 [==============================] - 53s 38us/step - loss: 0.3781 - acc: 0.8282 - val_loss: 0.4061 - val_acc: 0.8101\n",
      "Epoch 53/200\n",
      "1387623/1387623 [==============================] - 53s 38us/step - loss: 0.3780 - acc: 0.8283 - val_loss: 0.3990 - val_acc: 0.8142\n",
      "Epoch 54/200\n",
      "1387623/1387623 [==============================] - 53s 38us/step - loss: 0.3780 - acc: 0.8283 - val_loss: 0.3987 - val_acc: 0.8145\n",
      "Epoch 55/200\n",
      "1387623/1387623 [==============================] - 53s 38us/step - loss: 0.3780 - acc: 0.8281 - val_loss: 0.3901 - val_acc: 0.8189\n",
      "Epoch 56/200\n",
      "1387623/1387623 [==============================] - 53s 38us/step - loss: 0.3780 - acc: 0.8281 - val_loss: 0.4030 - val_acc: 0.8112\n",
      "Epoch 57/200\n"
     ]
    },
    {
     "name": "stdout",
     "output_type": "stream",
     "text": [
      "1387623/1387623 [==============================] - 48s 34us/step - loss: 0.3780 - acc: 0.8283 - val_loss: 0.3907 - val_acc: 0.8185\n",
      "Epoch 58/200\n",
      "1387623/1387623 [==============================] - 48s 35us/step - loss: 0.3780 - acc: 0.8281 - val_loss: 0.3923 - val_acc: 0.8180\n",
      "Epoch 59/200\n",
      "1387623/1387623 [==============================] - 48s 35us/step - loss: 0.3780 - acc: 0.8283 - val_loss: 0.3963 - val_acc: 0.8159\n",
      "Epoch 60/200\n",
      "1387623/1387623 [==============================] - 48s 34us/step - loss: 0.3780 - acc: 0.8283 - val_loss: 0.4029 - val_acc: 0.8114\n",
      "Epoch 61/200\n",
      "1387623/1387623 [==============================] - 48s 34us/step - loss: 0.3780 - acc: 0.8282 - val_loss: 0.3922 - val_acc: 0.8177\n",
      "Epoch 62/200\n",
      "1387623/1387623 [==============================] - 48s 34us/step - loss: 0.3780 - acc: 0.8283 - val_loss: 0.4032 - val_acc: 0.8122\n",
      "Epoch 63/200\n",
      "1387623/1387623 [==============================] - 48s 35us/step - loss: 0.3779 - acc: 0.8283 - val_loss: 0.3977 - val_acc: 0.8155\n",
      "Epoch 64/200\n",
      "1387623/1387623 [==============================] - 48s 34us/step - loss: 0.3779 - acc: 0.8282 - val_loss: 0.3903 - val_acc: 0.8189\n",
      "Epoch 65/200\n",
      "1387623/1387623 [==============================] - 49s 35us/step - loss: 0.3779 - acc: 0.8282 - val_loss: 0.3925 - val_acc: 0.8179\n",
      "Epoch 66/200\n",
      "1387623/1387623 [==============================] - 48s 35us/step - loss: 0.3780 - acc: 0.8281 - val_loss: 0.3915 - val_acc: 0.8180\n",
      "Epoch 67/200\n",
      "1387623/1387623 [==============================] - 49s 35us/step - loss: 0.3779 - acc: 0.8282 - val_loss: 0.3917 - val_acc: 0.8179\n",
      "Epoch 68/200\n",
      "1387623/1387623 [==============================] - 48s 35us/step - loss: 0.3779 - acc: 0.8281 - val_loss: 0.3911 - val_acc: 0.8180\n",
      "Epoch 69/200\n",
      "1387623/1387623 [==============================] - 49s 35us/step - loss: 0.3779 - acc: 0.8284 - val_loss: 0.3895 - val_acc: 0.8195\n",
      "Epoch 70/200\n",
      "1387623/1387623 [==============================] - 49s 35us/step - loss: 0.3778 - acc: 0.8281 - val_loss: 0.3906 - val_acc: 0.8186\n",
      "Epoch 71/200\n",
      "1387623/1387623 [==============================] - 51s 36us/step - loss: 0.3779 - acc: 0.8284 - val_loss: 0.3959 - val_acc: 0.8152\n",
      "Epoch 72/200\n",
      "1387623/1387623 [==============================] - 49s 35us/step - loss: 0.3779 - acc: 0.8282 - val_loss: 0.3980 - val_acc: 0.8143\n",
      "Epoch 73/200\n",
      "1387623/1387623 [==============================] - 49s 35us/step - loss: 0.3778 - acc: 0.8282 - val_loss: 0.3921 - val_acc: 0.8177\n",
      "Epoch 74/200\n",
      "1387623/1387623 [==============================] - 49s 35us/step - loss: 0.3778 - acc: 0.8283 - val_loss: 0.3966 - val_acc: 0.8153\n",
      "Epoch 75/200\n",
      "1387623/1387623 [==============================] - 49s 35us/step - loss: 0.3778 - acc: 0.8282 - val_loss: 0.3920 - val_acc: 0.8182\n",
      "Epoch 76/200\n",
      "1387623/1387623 [==============================] - 49s 36us/step - loss: 0.3778 - acc: 0.8282 - val_loss: 0.3896 - val_acc: 0.8194\n",
      "Epoch 77/200\n",
      "1387623/1387623 [==============================] - 49s 36us/step - loss: 0.3779 - acc: 0.8283 - val_loss: 0.4044 - val_acc: 0.8108\n",
      "Epoch 78/200\n",
      "1387623/1387623 [==============================] - 49s 35us/step - loss: 0.3778 - acc: 0.8282 - val_loss: 0.3889 - val_acc: 0.8198\n",
      "Epoch 79/200\n",
      "1387623/1387623 [==============================] - 49s 35us/step - loss: 0.3778 - acc: 0.8282 - val_loss: 0.3926 - val_acc: 0.8177\n",
      "Epoch 80/200\n",
      "1387623/1387623 [==============================] - 49s 35us/step - loss: 0.3778 - acc: 0.8283 - val_loss: 0.3943 - val_acc: 0.8160\n",
      "Epoch 81/200\n",
      "1387623/1387623 [==============================] - 49s 35us/step - loss: 0.3778 - acc: 0.8281 - val_loss: 0.3876 - val_acc: 0.8206\n",
      "Epoch 82/200\n",
      "1387623/1387623 [==============================] - 49s 36us/step - loss: 0.3778 - acc: 0.8282 - val_loss: 0.3966 - val_acc: 0.8157\n",
      "Epoch 83/200\n",
      "1387623/1387623 [==============================] - 50s 36us/step - loss: 0.3778 - acc: 0.8283 - val_loss: 0.3896 - val_acc: 0.8187\n",
      "Epoch 84/200\n",
      "1387623/1387623 [==============================] - 49s 36us/step - loss: 0.3778 - acc: 0.8283 - val_loss: 0.3971 - val_acc: 0.8151\n",
      "Epoch 85/200\n",
      "1387623/1387623 [==============================] - 50s 36us/step - loss: 0.3778 - acc: 0.8283 - val_loss: 0.3943 - val_acc: 0.8170\n",
      "Epoch 86/200\n",
      "1387623/1387623 [==============================] - 50s 36us/step - loss: 0.3778 - acc: 0.8282 - val_loss: 0.3896 - val_acc: 0.8194\n",
      "Epoch 87/200\n",
      "1387623/1387623 [==============================] - 50s 36us/step - loss: 0.3778 - acc: 0.8282 - val_loss: 0.3894 - val_acc: 0.8194\n",
      "Epoch 88/200\n",
      "1387623/1387623 [==============================] - 50s 36us/step - loss: 0.3778 - acc: 0.8282 - val_loss: 0.3954 - val_acc: 0.8156\n",
      "Epoch 89/200\n",
      "1387623/1387623 [==============================] - 50s 36us/step - loss: 0.3778 - acc: 0.8283 - val_loss: 0.3886 - val_acc: 0.8194\n",
      "Epoch 90/200\n",
      "1387623/1387623 [==============================] - 50s 36us/step - loss: 0.3777 - acc: 0.8284 - val_loss: 0.3933 - val_acc: 0.8173\n",
      "Epoch 91/200\n",
      "1387623/1387623 [==============================] - 50s 36us/step - loss: 0.3778 - acc: 0.8283 - val_loss: 0.3942 - val_acc: 0.8161\n",
      "Epoch 92/200\n",
      "1387623/1387623 [==============================] - 50s 36us/step - loss: 0.3777 - acc: 0.8283 - val_loss: 0.3930 - val_acc: 0.8171\n",
      "Epoch 93/200\n",
      "1387623/1387623 [==============================] - 50s 36us/step - loss: 0.3778 - acc: 0.8284 - val_loss: 0.3904 - val_acc: 0.8185\n",
      "Epoch 94/200\n",
      "1387623/1387623 [==============================] - 50s 36us/step - loss: 0.3777 - acc: 0.8283 - val_loss: 0.3996 - val_acc: 0.8131\n",
      "Epoch 95/200\n",
      "1387623/1387623 [==============================] - 50s 36us/step - loss: 0.3777 - acc: 0.8282 - val_loss: 0.3916 - val_acc: 0.8177\n",
      "Epoch 96/200\n",
      "1387623/1387623 [==============================] - 50s 36us/step - loss: 0.3777 - acc: 0.8283 - val_loss: 0.3919 - val_acc: 0.8179\n",
      "Epoch 97/200\n",
      "1387623/1387623 [==============================] - 50s 36us/step - loss: 0.3777 - acc: 0.8284 - val_loss: 0.3951 - val_acc: 0.8169\n",
      "Epoch 98/200\n",
      "1387623/1387623 [==============================] - 50s 36us/step - loss: 0.3777 - acc: 0.8283 - val_loss: 0.4017 - val_acc: 0.8125\n",
      "Epoch 99/200\n",
      "1387623/1387623 [==============================] - 51s 36us/step - loss: 0.3777 - acc: 0.8283 - val_loss: 0.3974 - val_acc: 0.8153\n",
      "Epoch 100/200\n",
      "1387623/1387623 [==============================] - 50s 36us/step - loss: 0.3777 - acc: 0.8284 - val_loss: 0.3972 - val_acc: 0.8153\n",
      "Epoch 101/200\n",
      "1387623/1387623 [==============================] - 51s 37us/step - loss: 0.3777 - acc: 0.8284 - val_loss: 0.3892 - val_acc: 0.8192\n",
      "Epoch 102/200\n",
      "1387623/1387623 [==============================] - 51s 36us/step - loss: 0.3777 - acc: 0.8284 - val_loss: 0.3916 - val_acc: 0.8179\n",
      "Epoch 103/200\n",
      "1387623/1387623 [==============================] - 51s 37us/step - loss: 0.3777 - acc: 0.8285 - val_loss: 0.3909 - val_acc: 0.8181\n",
      "Epoch 104/200\n",
      "1387623/1387623 [==============================] - 51s 37us/step - loss: 0.3777 - acc: 0.8284 - val_loss: 0.3901 - val_acc: 0.8191\n",
      "Epoch 105/200\n",
      "1387623/1387623 [==============================] - 51s 37us/step - loss: 0.3777 - acc: 0.8283 - val_loss: 0.4018 - val_acc: 0.8121\n",
      "Epoch 106/200\n",
      "1387623/1387623 [==============================] - 51s 37us/step - loss: 0.3777 - acc: 0.8282 - val_loss: 0.3919 - val_acc: 0.8174\n",
      "Epoch 107/200\n",
      "1387623/1387623 [==============================] - 51s 37us/step - loss: 0.3777 - acc: 0.8283 - val_loss: 0.3890 - val_acc: 0.8195\n",
      "Epoch 108/200\n",
      "1387623/1387623 [==============================] - 51s 37us/step - loss: 0.3777 - acc: 0.8284 - val_loss: 0.3916 - val_acc: 0.8177\n",
      "Epoch 109/200\n",
      "1387623/1387623 [==============================] - 52s 37us/step - loss: 0.3776 - acc: 0.8284 - val_loss: 0.3890 - val_acc: 0.8199\n",
      "Epoch 110/200\n",
      "1387623/1387623 [==============================] - 51s 37us/step - loss: 0.3777 - acc: 0.8283 - val_loss: 0.3890 - val_acc: 0.8195\n",
      "Epoch 111/200\n",
      "1387623/1387623 [==============================] - 51s 37us/step - loss: 0.3776 - acc: 0.8284 - val_loss: 0.3964 - val_acc: 0.8154\n",
      "Epoch 112/200\n",
      "1387623/1387623 [==============================] - 51s 37us/step - loss: 0.3776 - acc: 0.8283 - val_loss: 0.3908 - val_acc: 0.8184\n",
      "Epoch 113/200\n",
      "1387623/1387623 [==============================] - 52s 37us/step - loss: 0.3776 - acc: 0.8284 - val_loss: 0.3880 - val_acc: 0.8202\n"
     ]
    },
    {
     "name": "stdout",
     "output_type": "stream",
     "text": [
      "Epoch 114/200\n",
      "1387623/1387623 [==============================] - 48s 35us/step - loss: 0.3776 - acc: 0.8283 - val_loss: 0.3909 - val_acc: 0.8187\n",
      "Epoch 115/200\n",
      "1387623/1387623 [==============================] - 48s 35us/step - loss: 0.3776 - acc: 0.8284 - val_loss: 0.3898 - val_acc: 0.8193\n",
      "Epoch 116/200\n",
      "1387623/1387623 [==============================] - 48s 35us/step - loss: 0.3776 - acc: 0.8285 - val_loss: 0.3918 - val_acc: 0.8179\n",
      "Epoch 117/200\n",
      "1387623/1387623 [==============================] - 48s 34us/step - loss: 0.3776 - acc: 0.8283 - val_loss: 0.3986 - val_acc: 0.8140\n",
      "Epoch 118/200\n",
      "1387623/1387623 [==============================] - 48s 34us/step - loss: 0.3776 - acc: 0.8283 - val_loss: 0.3897 - val_acc: 0.8193\n",
      "Epoch 119/200\n",
      "1387623/1387623 [==============================] - 49s 35us/step - loss: 0.3776 - acc: 0.8284 - val_loss: 0.3909 - val_acc: 0.8182\n",
      "Epoch 120/200\n",
      "1387623/1387623 [==============================] - 48s 35us/step - loss: 0.3776 - acc: 0.8284 - val_loss: 0.3983 - val_acc: 0.8144\n",
      "Epoch 121/200\n",
      "1387623/1387623 [==============================] - 48s 35us/step - loss: 0.3776 - acc: 0.8283 - val_loss: 0.3932 - val_acc: 0.8169\n",
      "Epoch 122/200\n",
      "1387623/1387623 [==============================] - 48s 35us/step - loss: 0.3775 - acc: 0.8285 - val_loss: 0.3962 - val_acc: 0.8164\n",
      "Epoch 123/200\n",
      "1387623/1387623 [==============================] - 48s 35us/step - loss: 0.3776 - acc: 0.8284 - val_loss: 0.3913 - val_acc: 0.8178\n",
      "Epoch 124/200\n",
      "1387623/1387623 [==============================] - 48s 35us/step - loss: 0.3775 - acc: 0.8284 - val_loss: 0.3987 - val_acc: 0.8145\n",
      "Epoch 125/200\n",
      "1387623/1387623 [==============================] - 49s 35us/step - loss: 0.3775 - acc: 0.8283 - val_loss: 0.3878 - val_acc: 0.8202\n",
      "Epoch 126/200\n",
      "1387623/1387623 [==============================] - 48s 35us/step - loss: 0.3776 - acc: 0.8285 - val_loss: 0.3899 - val_acc: 0.8191\n",
      "Epoch 127/200\n",
      "1387623/1387623 [==============================] - 49s 35us/step - loss: 0.3775 - acc: 0.8283 - val_loss: 0.3926 - val_acc: 0.8184\n",
      "Epoch 128/200\n",
      "1387623/1387623 [==============================] - 49s 35us/step - loss: 0.3775 - acc: 0.8284 - val_loss: 0.3923 - val_acc: 0.8180\n",
      "Epoch 129/200\n",
      "1387623/1387623 [==============================] - 48s 35us/step - loss: 0.3775 - acc: 0.8285 - val_loss: 0.3998 - val_acc: 0.8138\n",
      "Epoch 130/200\n",
      "1387623/1387623 [==============================] - 49s 35us/step - loss: 0.3775 - acc: 0.8284 - val_loss: 0.3931 - val_acc: 0.8164\n",
      "Epoch 131/200\n",
      "1387623/1387623 [==============================] - 49s 35us/step - loss: 0.3775 - acc: 0.8283 - val_loss: 0.3962 - val_acc: 0.8156\n",
      "Epoch 132/200\n",
      "1387623/1387623 [==============================] - 49s 35us/step - loss: 0.3775 - acc: 0.8286 - val_loss: 0.3912 - val_acc: 0.8181\n",
      "Epoch 133/200\n",
      "1387623/1387623 [==============================] - 49s 36us/step - loss: 0.3775 - acc: 0.8285 - val_loss: 0.3898 - val_acc: 0.8191\n",
      "Epoch 134/200\n",
      "1387623/1387623 [==============================] - 49s 35us/step - loss: 0.3775 - acc: 0.8285 - val_loss: 0.3915 - val_acc: 0.8181\n",
      "Epoch 135/200\n",
      "1387623/1387623 [==============================] - 49s 36us/step - loss: 0.3775 - acc: 0.8285 - val_loss: 0.3948 - val_acc: 0.8158\n",
      "Epoch 136/200\n",
      "1387623/1387623 [==============================] - 49s 36us/step - loss: 0.3775 - acc: 0.8286 - val_loss: 0.3867 - val_acc: 0.8214\n",
      "Epoch 137/200\n",
      "1387623/1387623 [==============================] - 49s 36us/step - loss: 0.3775 - acc: 0.8284 - val_loss: 0.3891 - val_acc: 0.8196\n",
      "Epoch 138/200\n",
      "1387623/1387623 [==============================] - 50s 36us/step - loss: 0.3775 - acc: 0.8285 - val_loss: 0.3917 - val_acc: 0.8178\n",
      "Epoch 139/200\n",
      "1387623/1387623 [==============================] - 49s 35us/step - loss: 0.3774 - acc: 0.8285 - val_loss: 0.3963 - val_acc: 0.8160\n",
      "Epoch 140/200\n",
      "1387623/1387623 [==============================] - 50s 36us/step - loss: 0.3775 - acc: 0.8285 - val_loss: 0.3889 - val_acc: 0.8198\n",
      "Epoch 141/200\n",
      "1387623/1387623 [==============================] - 49s 36us/step - loss: 0.3774 - acc: 0.8285 - val_loss: 0.3922 - val_acc: 0.8175\n",
      "Epoch 142/200\n",
      "1387623/1387623 [==============================] - 49s 36us/step - loss: 0.3774 - acc: 0.8285 - val_loss: 0.3894 - val_acc: 0.8194\n",
      "Epoch 143/200\n",
      "1387623/1387623 [==============================] - 49s 36us/step - loss: 0.3774 - acc: 0.8285 - val_loss: 0.3906 - val_acc: 0.8184\n",
      "Epoch 144/200\n",
      "1387623/1387623 [==============================] - 50s 36us/step - loss: 0.3774 - acc: 0.8286 - val_loss: 0.3907 - val_acc: 0.8186\n",
      "Epoch 145/200\n",
      "1387623/1387623 [==============================] - 50s 36us/step - loss: 0.3774 - acc: 0.8284 - val_loss: 0.3973 - val_acc: 0.8153\n",
      "Epoch 146/200\n",
      "1387623/1387623 [==============================] - 50s 36us/step - loss: 0.3774 - acc: 0.8284 - val_loss: 0.3931 - val_acc: 0.8179\n",
      "Epoch 147/200\n",
      "1387623/1387623 [==============================] - 50s 36us/step - loss: 0.3774 - acc: 0.8286 - val_loss: 0.3887 - val_acc: 0.8196\n",
      "Epoch 148/200\n",
      "1387623/1387623 [==============================] - 50s 36us/step - loss: 0.3774 - acc: 0.8284 - val_loss: 0.3919 - val_acc: 0.8185\n",
      "Epoch 149/200\n",
      "1387623/1387623 [==============================] - 50s 36us/step - loss: 0.3774 - acc: 0.8284 - val_loss: 0.3925 - val_acc: 0.8178\n",
      "Epoch 150/200\n",
      "1387623/1387623 [==============================] - 50s 36us/step - loss: 0.3773 - acc: 0.8286 - val_loss: 0.3920 - val_acc: 0.8182\n",
      "Epoch 151/200\n",
      "1387623/1387623 [==============================] - 50s 36us/step - loss: 0.3773 - acc: 0.8285 - val_loss: 0.3954 - val_acc: 0.8163\n",
      "Epoch 152/200\n",
      "1387623/1387623 [==============================] - 50s 36us/step - loss: 0.3773 - acc: 0.8285 - val_loss: 0.3908 - val_acc: 0.8189\n",
      "Epoch 153/200\n",
      "1387623/1387623 [==============================] - 50s 36us/step - loss: 0.3774 - acc: 0.8284 - val_loss: 0.3886 - val_acc: 0.8203\n",
      "Epoch 154/200\n",
      "1387623/1387623 [==============================] - 51s 36us/step - loss: 0.3773 - acc: 0.8286 - val_loss: 0.3962 - val_acc: 0.8162\n",
      "Epoch 155/200\n",
      "1387623/1387623 [==============================] - 50s 36us/step - loss: 0.3773 - acc: 0.8285 - val_loss: 0.3918 - val_acc: 0.8182\n",
      "Epoch 156/200\n",
      "1387623/1387623 [==============================] - 51s 37us/step - loss: 0.3773 - acc: 0.8285 - val_loss: 0.3964 - val_acc: 0.8151\n",
      "Epoch 157/200\n",
      "1387623/1387623 [==============================] - 51s 37us/step - loss: 0.3774 - acc: 0.8285 - val_loss: 0.3918 - val_acc: 0.8179\n",
      "Epoch 158/200\n",
      "1387623/1387623 [==============================] - 51s 37us/step - loss: 0.3773 - acc: 0.8286 - val_loss: 0.3915 - val_acc: 0.8180\n",
      "Epoch 159/200\n",
      "1387623/1387623 [==============================] - 51s 37us/step - loss: 0.3773 - acc: 0.8285 - val_loss: 0.3914 - val_acc: 0.8181\n",
      "Epoch 160/200\n",
      "1387623/1387623 [==============================] - 51s 37us/step - loss: 0.3773 - acc: 0.8285 - val_loss: 0.3960 - val_acc: 0.8165\n",
      "Epoch 161/200\n",
      "1387623/1387623 [==============================] - 52s 38us/step - loss: 0.3773 - acc: 0.8285 - val_loss: 0.3929 - val_acc: 0.8173\n",
      "Epoch 162/200\n",
      "1387623/1387623 [==============================] - 52s 37us/step - loss: 0.3773 - acc: 0.8285 - val_loss: 0.3970 - val_acc: 0.8148\n",
      "Epoch 163/200\n",
      "1387623/1387623 [==============================] - 51s 37us/step - loss: 0.3773 - acc: 0.8286 - val_loss: 0.3986 - val_acc: 0.8150\n",
      "Epoch 164/200\n",
      "1387623/1387623 [==============================] - 51s 37us/step - loss: 0.3773 - acc: 0.8285 - val_loss: 0.3962 - val_acc: 0.8163\n",
      "Epoch 165/200\n",
      "1387623/1387623 [==============================] - 52s 38us/step - loss: 0.3773 - acc: 0.8284 - val_loss: 0.3932 - val_acc: 0.8176\n",
      "Epoch 166/200\n",
      "1387623/1387623 [==============================] - 52s 37us/step - loss: 0.3773 - acc: 0.8286 - val_loss: 0.3910 - val_acc: 0.8186\n",
      "Epoch 167/200\n",
      "1387623/1387623 [==============================] - 52s 37us/step - loss: 0.3773 - acc: 0.8283 - val_loss: 0.3951 - val_acc: 0.8165\n",
      "Epoch 168/200\n",
      "1387623/1387623 [==============================] - 52s 37us/step - loss: 0.3773 - acc: 0.8285 - val_loss: 0.3897 - val_acc: 0.8191\n",
      "Epoch 169/200\n",
      "1387623/1387623 [==============================] - 52s 38us/step - loss: 0.3773 - acc: 0.8286 - val_loss: 0.3928 - val_acc: 0.8171\n",
      "Epoch 170/200\n"
     ]
    },
    {
     "name": "stdout",
     "output_type": "stream",
     "text": [
      "1387623/1387623 [==============================] - 47s 34us/step - loss: 0.3773 - acc: 0.8285 - val_loss: 0.3969 - val_acc: 0.8146\n",
      "Epoch 171/200\n",
      "1387623/1387623 [==============================] - 48s 34us/step - loss: 0.3773 - acc: 0.8283 - val_loss: 0.3965 - val_acc: 0.8161\n",
      "Epoch 172/200\n",
      "1387623/1387623 [==============================] - 48s 34us/step - loss: 0.3773 - acc: 0.8283 - val_loss: 0.3915 - val_acc: 0.8180\n",
      "Epoch 173/200\n",
      "1387623/1387623 [==============================] - 48s 35us/step - loss: 0.3773 - acc: 0.8285 - val_loss: 0.3904 - val_acc: 0.8189\n",
      "Epoch 174/200\n",
      "1387623/1387623 [==============================] - 48s 35us/step - loss: 0.3773 - acc: 0.8285 - val_loss: 0.3945 - val_acc: 0.8159\n",
      "Epoch 175/200\n",
      "1387623/1387623 [==============================] - 49s 35us/step - loss: 0.3773 - acc: 0.8287 - val_loss: 0.3924 - val_acc: 0.8182\n",
      "Epoch 176/200\n",
      "1387623/1387623 [==============================] - 48s 35us/step - loss: 0.3773 - acc: 0.8285 - val_loss: 0.3891 - val_acc: 0.8197\n",
      "Epoch 177/200\n",
      "1387623/1387623 [==============================] - 48s 35us/step - loss: 0.3773 - acc: 0.8283 - val_loss: 0.3909 - val_acc: 0.8184\n",
      "Epoch 178/200\n",
      "1387623/1387623 [==============================] - 48s 35us/step - loss: 0.3773 - acc: 0.8285 - val_loss: 0.3932 - val_acc: 0.8173\n",
      "Epoch 179/200\n",
      "1387623/1387623 [==============================] - 48s 35us/step - loss: 0.3773 - acc: 0.8286 - val_loss: 0.3912 - val_acc: 0.8180\n",
      "Epoch 180/200\n",
      "1387623/1387623 [==============================] - 49s 35us/step - loss: 0.3773 - acc: 0.8286 - val_loss: 0.3936 - val_acc: 0.8163\n",
      "Epoch 181/200\n",
      "1387623/1387623 [==============================] - 49s 35us/step - loss: 0.3773 - acc: 0.8284 - val_loss: 0.3938 - val_acc: 0.8166\n",
      "Epoch 182/200\n",
      "1387623/1387623 [==============================] - 49s 35us/step - loss: 0.3773 - acc: 0.8285 - val_loss: 0.3954 - val_acc: 0.8167\n",
      "Epoch 183/200\n",
      "1387623/1387623 [==============================] - 49s 35us/step - loss: 0.3773 - acc: 0.8284 - val_loss: 0.3874 - val_acc: 0.8208\n",
      "Epoch 184/200\n",
      "1387623/1387623 [==============================] - 49s 35us/step - loss: 0.3773 - acc: 0.8286 - val_loss: 0.3992 - val_acc: 0.8135\n",
      "Epoch 185/200\n",
      "1387623/1387623 [==============================] - 49s 35us/step - loss: 0.3773 - acc: 0.8285 - val_loss: 0.3900 - val_acc: 0.8192\n",
      "Epoch 186/200\n",
      "1387623/1387623 [==============================] - 49s 36us/step - loss: 0.3773 - acc: 0.8284 - val_loss: 0.3927 - val_acc: 0.8177\n",
      "Epoch 187/200\n",
      "1387623/1387623 [==============================] - 49s 35us/step - loss: 0.3773 - acc: 0.8286 - val_loss: 0.3963 - val_acc: 0.8158\n",
      "Epoch 188/200\n",
      "1387623/1387623 [==============================] - 49s 35us/step - loss: 0.3773 - acc: 0.8286 - val_loss: 0.3929 - val_acc: 0.8176\n",
      "Epoch 189/200\n",
      "1387623/1387623 [==============================] - 49s 35us/step - loss: 0.3773 - acc: 0.8285 - val_loss: 0.3902 - val_acc: 0.8187\n",
      "Epoch 190/200\n",
      "1387623/1387623 [==============================] - 49s 36us/step - loss: 0.3773 - acc: 0.8285 - val_loss: 0.3922 - val_acc: 0.8181\n",
      "Epoch 191/200\n",
      "1387623/1387623 [==============================] - 50s 36us/step - loss: 0.3773 - acc: 0.8286 - val_loss: 0.3965 - val_acc: 0.8153\n",
      "Epoch 192/200\n",
      "1387623/1387623 [==============================] - 50s 36us/step - loss: 0.3772 - acc: 0.8286 - val_loss: 0.3946 - val_acc: 0.8162\n",
      "Epoch 193/200\n",
      "1387623/1387623 [==============================] - 50s 36us/step - loss: 0.3773 - acc: 0.8286 - val_loss: 0.3960 - val_acc: 0.8159\n",
      "Epoch 194/200\n",
      "1387623/1387623 [==============================] - 50s 36us/step - loss: 0.3773 - acc: 0.8284 - val_loss: 0.3909 - val_acc: 0.8188\n",
      "Epoch 195/200\n",
      "1387623/1387623 [==============================] - 50s 36us/step - loss: 0.3773 - acc: 0.8285 - val_loss: 0.3893 - val_acc: 0.8195\n",
      "Epoch 196/200\n",
      "1387623/1387623 [==============================] - 50s 36us/step - loss: 0.3773 - acc: 0.8287 - val_loss: 0.3916 - val_acc: 0.8183\n",
      "Epoch 197/200\n",
      "1387623/1387623 [==============================] - 50s 36us/step - loss: 0.3772 - acc: 0.8286 - val_loss: 0.3901 - val_acc: 0.8194\n",
      "Epoch 198/200\n",
      "1387623/1387623 [==============================] - 50s 36us/step - loss: 0.3773 - acc: 0.8285 - val_loss: 0.3900 - val_acc: 0.8191\n",
      "Epoch 199/200\n",
      "1387623/1387623 [==============================] - 50s 36us/step - loss: 0.3773 - acc: 0.8286 - val_loss: 0.3908 - val_acc: 0.8188\n",
      "Epoch 200/200\n",
      "1387623/1387623 [==============================] - 50s 36us/step - loss: 0.3772 - acc: 0.8286 - val_loss: 0.3940 - val_acc: 0.8165\n",
      "Training time: 2 hours, 48 minutes, 0 seconds\n"
     ]
    }
   ],
   "source": [
    "if train_load_model_default == 'n':\n",
    "    \n",
    "    # create\n",
    "    model_default = Sequential()\n",
    "    model_default.add(Dense(12, input_dim=input_ndimensions, activation='relu'))\n",
    "    model_default.add(Dense(8, activation='relu'))\n",
    "    model_default.add(Dense(1, activation='sigmoid'))\n",
    "\n",
    "    model_default.compile(loss='binary_crossentropy', optimizer='adam', metrics=['accuracy'])\n",
    "\n",
    "    # train\n",
    "    train_start = datetime.now()\n",
    "    hist_model_default = model_default.fit(X_train, y_train,\n",
    "                                           epochs=max_epochs, batch_size=50,\n",
    "                                           verbose=fit_verbose, validation_data=val_data);\n",
    "\n",
    "    hist_dict_model_default = hist_model_default.history\n",
    "    print(strfdelta(datetime.now()-train_start, \"Training time: {hours} hours, {minutes} minutes, {seconds} seconds\"))\n",
    "\n",
    "    # save model to HDF5, history to pickle\n",
    "    model_default.save(models_path+'/'+fname_model_default+'.h5')\n",
    "   \n",
    "    with open(models_path+'/'+fname_model_default+'_hist.pickle', 'wb') as handle:\n",
    "        pickle.dump(hist_dict_model_default, handle, protocol=pickle.HIGHEST_PROTOCOL)\n",
    "        \n",
    "else:\n",
    "    # load model from HDF5, history from pickle\n",
    "    model_default = load_model(models_path+'/'+fname_model_default+'.h5')\n",
    "    \n",
    "    with open(models_path+'/'+fname_model_default+'_hist.pickle', 'rb') as handle:\n",
    "        hist_dict_model_default = pickle.load(handle)"
   ]
  },
  {
   "cell_type": "code",
   "execution_count": 47,
   "metadata": {},
   "outputs": [
    {
     "data": {
      "image/png": "[encoded data removed]",
      "text/plain": [
       "<matplotlib.figure.Figure at 0x7ff130db0e50>"
      ]
     },
     "metadata": {},
     "output_type": "display_data"
    },
    {
     "data": {
      "image/png": "[encoded data removed]",
      "text/plain": [
       "<matplotlib.figure.Figure at 0x7ff139661450>"
      ]
     },
     "metadata": {},
     "output_type": "display_data"
    }
   ],
   "source": [
    "plot_acc_loss_vs_epoch(hist_dict_model_default, 'NN (Default)', 'nn_default', plots_path, True, False)\n",
    "plot_acc_loss_vs_epoch(hist_dict_model_default, 'NN (Default)', 'nn_default', plots_path, False, True)"
   ]
  },
  {
   "cell_type": "code",
   "execution_count": 48,
   "metadata": {},
   "outputs": [
    {
     "name": "stdout",
     "output_type": "stream",
     "text": [
      "model_default acc: 81.65%\n"
     ]
    },
    {
     "data": {
      "image/png": "[encoded data removed]",
      "text/plain": [
       "<matplotlib.figure.Figure at 0x7ff130e22050>"
      ]
     },
     "metadata": {},
     "output_type": "display_data"
    },
    {
     "data": {
      "image/png": "[encoded data removed]",
      "text/plain": [
       "<matplotlib.figure.Figure at 0x7ff1308d8e10>"
      ]
     },
     "metadata": {},
     "output_type": "display_data"
    }
   ],
   "source": [
    "print(\"model_default %s: %.2f%%\" % (model_default.metrics_names[1], model_default.evaluate(X_test,y_test,verbose=0)[1]*100))\n",
    "\n",
    "plot_classifier_1D_output(model_default.predict(X_test[y_test>0.5], verbose=0), # el\n",
    "                          model_default.predict(X_test[y_test<0.5], verbose=0), # mu\n",
    "                          'NN (Default)', 'nn_default', plots_path\n",
    "                         )\n",
    "\n",
    "fpr_model_default, tpr_model_default, thresholds_model_default = roc_curve(y_test, model_default.predict(X_test, verbose=0))\n",
    "roc_model_default = [tpr_model_default, fpr_model_default, 'NN (Default)', 'nn_default', 'magenta', '--']\n",
    "\n",
    "plot_roc([roc_eprob, roc_model_default], plots_path)"
   ]
  },
  {
   "cell_type": "code",
   "execution_count": 49,
   "metadata": {},
   "outputs": [
    {
     "data": {
      "image/png": "[encoded data removed]",
      "text/plain": [
       "<matplotlib.figure.Figure at 0x7ff130550590>"
      ]
     },
     "metadata": {},
     "output_type": "display_data"
    }
   ],
   "source": [
    "#df_test_pTlep = create_df(sig_file_name,sig_tree,['lep_pT'],len(X_test[y_test>0.5]),shuffle=False))\n",
    "#sig_file_name, sig_tree, bkg_file_name, bkg_tree,\n",
    "#    list(input_variables),\n",
    "#    test_size=0.2,\n",
    "df_sig_pTlep, df_bkg_pTlep, X_train_pTlep, X_test_pTlep, y_train_pTlep, y_test_pTlep = create_fixed_test_shuffled_train_and_scale(\n",
    "    sig_file_name, sig_tree, bkg_file_name, bkg_tree,\n",
    "    ['pT','lep_pT'],\n",
    "    test_size=0.2,\n",
    "    # test_size=0.333333,\n",
    "    # sig_n=50000,\n",
    "    # bkg_n=50000,\n",
    "    scale_style={0: 'default', 1: 'default'},\n",
    "    rnd_seed = rnd_seed\n",
    ")\n",
    "el_score = model_default.predict(X_test[y_test>0.5], verbose=0) #el\n",
    "mu_score = model_default.predict(X_test[y_test<0.5], verbose=0) #mu\n",
    "test_pTlep = np.delete(X_test_pTlep, 0, axis=1)\n",
    "\n",
    "#print(test_pTlep[y_test<0.5])\n",
    "\n",
    "#print(X_test[y_test<0.5])\n",
    "el_pt = test_pTlep[y_test<0.5]\n",
    "mu_pt = test_pTlep[y_test>0.5]\n",
    "\n",
    "#elsortorder = el_score.argsort()\n",
    "#el_ptsort = el_pt[elsortorder]\n",
    "\n",
    "#musortorder = mu_score.argsort()\n",
    "#mu_ptsort = mu_pt[musortorder]\n",
    "\n",
    "N = 10\n",
    "binpTel = []\n",
    "binpTmu = []\n",
    "binpTelerr = []\n",
    "binpTmuerr = []\n",
    "binscore = []\n",
    "for i in range(N):\n",
    "    el_ptbin = []\n",
    "    binscore.append((2*i+1)*1./(2*N))\n",
    "    for eli in range(len(el_pt)):\n",
    "        if (el_score[eli] > (i)*1./N) and (el_score[eli] <= (i+1)*1./N):\n",
    "            #print(el_pt[eli], (i)*1./N, (i+1)*1./N)\n",
    "            el_ptbin.append(float(el_pt[eli]))\n",
    "    mu_ptbin = []\n",
    "    for mui in range(len(mu_pt)):\n",
    "        if (mu_score[mui] >= (i)*1./N) and (mu_score[mui] < (i+1)*1./N):\n",
    "            #print(mu_pt[mui], (i)*1./N, (i+1)*1./N)\n",
    "            mu_ptbin.append(float(mu_pt[mui]))\n",
    "    el_ptbin = np.array(el_ptbin)\n",
    "    mu_ptbin = np.array(mu_ptbin)\n",
    "    el_mean, el_std = el_ptbin.mean(), el_ptbin.std()\n",
    "    binpTel.append(el_mean)\n",
    "    binpTelerr.append(el_std)\n",
    "    mu_mean, mu_std = mu_ptbin.mean(), mu_ptbin.std()\n",
    "    binpTmu.append(mu_mean)\n",
    "    binpTmuerr.append(mu_std)\n",
    "    #mu_mean, mu_std = mu_ptbin.mean(), mu_ptbin.std()\n",
    "#print(mu_ptbin)\n",
    "#print(el_ptbin)\n",
    "\n",
    "fig, ax = plt.subplots()\n",
    "ax .errorbar(binscore, binpTel, binpTelerr, fmt='o', color = 'green', label='electron')\n",
    "ax .errorbar(binscore, binpTmu, binpTmuerr, fmt='o', color = 'blue', label='muon')\n",
    "ax.set_xlabel('NN score (without lepton pT)')\n",
    "ax.set_ylabel('Lepton pT')\n",
    "ax.legend(bbox_to_anchor=(1.05, 1), loc=2, borderaxespad=0.)\n",
    "fig.show()\n",
    " \n",
    "#print(type(el_score))\n",
    "#print(len(el_score), len(X_test[y_test<0.5]), len(el_pt))\n",
    "#print(len(mu_score), len(X_test[y_test>0.5]), len(mu_pt))"
   ]
  },
  {
   "cell_type": "code",
   "execution_count": 50,
   "metadata": {},
   "outputs": [
    {
     "ename": "ImportError",
     "evalue": "Failed to import pydot. You must install pydot and graphviz for `pydotprint` to work.",
     "output_type": "error",
     "traceback": [
      "\u001b[0;31m---------------------------------------------------------------------------\u001b[0m",
      "\u001b[0;31mImportError\u001b[0m                               Traceback (most recent call last)",
      "\u001b[0;32m<ipython-input-50-5988c6ef7574>\u001b[0m in \u001b[0;36m<module>\u001b[0;34m()\u001b[0m\n\u001b[1;32m      2\u001b[0m \u001b[0;31m# pip install pydot\u001b[0m\u001b[0;34m\u001b[0m\u001b[0;34m\u001b[0m\u001b[0m\n\u001b[1;32m      3\u001b[0m \u001b[0;34m\u001b[0m\u001b[0m\n\u001b[0;32m----> 4\u001b[0;31m \u001b[0mplot_model\u001b[0m\u001b[0;34m(\u001b[0m\u001b[0mmodel_default\u001b[0m\u001b[0;34m,\u001b[0m \u001b[0mto_file\u001b[0m\u001b[0;34m=\u001b[0m\u001b[0;34m'plots/model_default.pdf'\u001b[0m\u001b[0;34m,\u001b[0m \u001b[0mshow_shapes\u001b[0m\u001b[0;34m=\u001b[0m\u001b[0mTrue\u001b[0m\u001b[0;34m,\u001b[0m \u001b[0mshow_layer_names\u001b[0m\u001b[0;34m=\u001b[0m\u001b[0mTrue\u001b[0m\u001b[0;34m)\u001b[0m\u001b[0;34m\u001b[0m\u001b[0m\n\u001b[0m",
      "\u001b[0;32m/home/supers/.virtualenvs/trt/lib/python2.7/site-packages/keras/utils/vis_utils.pyc\u001b[0m in \u001b[0;36mplot_model\u001b[0;34m(model, to_file, show_shapes, show_layer_names, rankdir)\u001b[0m\n\u001b[1;32m    133\u001b[0m             \u001b[0;34m'LR'\u001b[0m \u001b[0mcreates\u001b[0m \u001b[0ma\u001b[0m \u001b[0mhorizontal\u001b[0m \u001b[0mplot\u001b[0m\u001b[0;34m.\u001b[0m\u001b[0;34m\u001b[0m\u001b[0m\n\u001b[1;32m    134\u001b[0m     \"\"\"\n\u001b[0;32m--> 135\u001b[0;31m     \u001b[0mdot\u001b[0m \u001b[0;34m=\u001b[0m \u001b[0mmodel_to_dot\u001b[0m\u001b[0;34m(\u001b[0m\u001b[0mmodel\u001b[0m\u001b[0;34m,\u001b[0m \u001b[0mshow_shapes\u001b[0m\u001b[0;34m,\u001b[0m \u001b[0mshow_layer_names\u001b[0m\u001b[0;34m,\u001b[0m \u001b[0mrankdir\u001b[0m\u001b[0;34m)\u001b[0m\u001b[0;34m\u001b[0m\u001b[0m\n\u001b[0m\u001b[1;32m    136\u001b[0m     \u001b[0m_\u001b[0m\u001b[0;34m,\u001b[0m \u001b[0mextension\u001b[0m \u001b[0;34m=\u001b[0m \u001b[0mos\u001b[0m\u001b[0;34m.\u001b[0m\u001b[0mpath\u001b[0m\u001b[0;34m.\u001b[0m\u001b[0msplitext\u001b[0m\u001b[0;34m(\u001b[0m\u001b[0mto_file\u001b[0m\u001b[0;34m)\u001b[0m\u001b[0;34m\u001b[0m\u001b[0m\n\u001b[1;32m    137\u001b[0m     \u001b[0;32mif\u001b[0m \u001b[0;32mnot\u001b[0m \u001b[0mextension\u001b[0m\u001b[0;34m:\u001b[0m\u001b[0;34m\u001b[0m\u001b[0m\n",
      "\u001b[0;32m/home/supers/.virtualenvs/trt/lib/python2.7/site-packages/keras/utils/vis_utils.pyc\u001b[0m in \u001b[0;36mmodel_to_dot\u001b[0;34m(model, show_shapes, show_layer_names, rankdir)\u001b[0m\n\u001b[1;32m     54\u001b[0m     \u001b[0;32mfrom\u001b[0m \u001b[0;34m.\u001b[0m\u001b[0;34m.\u001b[0m\u001b[0mmodels\u001b[0m \u001b[0;32mimport\u001b[0m \u001b[0mSequential\u001b[0m\u001b[0;34m\u001b[0m\u001b[0m\n\u001b[1;32m     55\u001b[0m \u001b[0;34m\u001b[0m\u001b[0m\n\u001b[0;32m---> 56\u001b[0;31m     \u001b[0m_check_pydot\u001b[0m\u001b[0;34m(\u001b[0m\u001b[0;34m)\u001b[0m\u001b[0;34m\u001b[0m\u001b[0m\n\u001b[0m\u001b[1;32m     57\u001b[0m     \u001b[0mdot\u001b[0m \u001b[0;34m=\u001b[0m \u001b[0mpydot\u001b[0m\u001b[0;34m.\u001b[0m\u001b[0mDot\u001b[0m\u001b[0;34m(\u001b[0m\u001b[0;34m)\u001b[0m\u001b[0;34m\u001b[0m\u001b[0m\n\u001b[1;32m     58\u001b[0m     \u001b[0mdot\u001b[0m\u001b[0;34m.\u001b[0m\u001b[0mset\u001b[0m\u001b[0;34m(\u001b[0m\u001b[0;34m'rankdir'\u001b[0m\u001b[0;34m,\u001b[0m \u001b[0mrankdir\u001b[0m\u001b[0;34m)\u001b[0m\u001b[0;34m\u001b[0m\u001b[0m\n",
      "\u001b[0;32m/home/supers/.virtualenvs/trt/lib/python2.7/site-packages/keras/utils/vis_utils.pyc\u001b[0m in \u001b[0;36m_check_pydot\u001b[0;34m()\u001b[0m\n\u001b[1;32m     29\u001b[0m         \u001b[0;31m# pydot raises a generic Exception here,\u001b[0m\u001b[0;34m\u001b[0m\u001b[0;34m\u001b[0m\u001b[0m\n\u001b[1;32m     30\u001b[0m         \u001b[0;31m# so no specific class can be caught.\u001b[0m\u001b[0;34m\u001b[0m\u001b[0;34m\u001b[0m\u001b[0m\n\u001b[0;32m---> 31\u001b[0;31m         raise ImportError('Failed to import pydot. You must install pydot'\n\u001b[0m\u001b[1;32m     32\u001b[0m                           ' and graphviz for `pydotprint` to work.')\n\u001b[1;32m     33\u001b[0m \u001b[0;34m\u001b[0m\u001b[0m\n",
      "\u001b[0;31mImportError\u001b[0m: Failed to import pydot. You must install pydot and graphviz for `pydotprint` to work."
     ]
    }
   ],
   "source": [
    "from keras.utils.vis_utils import plot_model\n",
    "# pip install pydot\n",
    "\n",
    "plot_model(model_default, to_file='plots/model_default.pdf', show_shapes=True, show_layer_names=True)"
   ]
  },
  {
   "cell_type": "markdown",
   "metadata": {},
   "source": [
    "## Wide"
   ]
  },
  {
   "cell_type": "code",
   "execution_count": null,
   "metadata": {},
   "outputs": [],
   "source": [
    "fname_model_wide = 'model_wide'\n",
    "train_load_model_wide = train_or_load(models_path+'/'+fname_model_wide+'.h5')"
   ]
  },
  {
   "cell_type": "code",
   "execution_count": null,
   "metadata": {},
   "outputs": [],
   "source": [
    "if train_load_model_wide == 'n':\n",
    "    \n",
    "    # create\n",
    "    model_wide = Sequential()\n",
    "    model_wide.add(Dense(24, input_dim=input_ndimensions, activation='relu'))\n",
    "    model_wide.add(Dense(16, activation='relu'))\n",
    "    model_wide.add(Dense(1, activation='sigmoid'))\n",
    "\n",
    "    model_wide.compile(loss='binary_crossentropy', optimizer='adam', metrics=['accuracy'])\n",
    "\n",
    "    # train\n",
    "    train_start = datetime.now()\n",
    "    hist_model_wide = model_wide.fit(X_train, y_train,\n",
    "                                           epochs=max_epochs, batch_size=50,\n",
    "                                           verbose=fit_verbose, validation_data=val_data);\n",
    "\n",
    "    hist_dict_model_wide = hist_model_wide.history\n",
    "    print(strfdelta(datetime.now()-train_start, \"Training time: {hours} hours, {minutes} minutes, {seconds} seconds\"))\n",
    "\n",
    "    # save model to HDF5, history to pickle\n",
    "    model_wide.save(models_path+'/'+fname_model_wide+'.h5')\n",
    "   \n",
    "    with open(models_path+'/'+fname_model_wide+'_hist.pickle', 'wb') as handle:\n",
    "        pickle.dump(hist_dict_model_wide, handle, protocol=pickle.HIGHEST_PROTOCOL)\n",
    "        \n",
    "else:\n",
    "    # load model from HDF5, history from pickle\n",
    "    model_wide = load_model(models_path+'/'+fname_model_wide+'.h5')\n",
    "    \n",
    "    with open(models_path+'/'+fname_model_wide+'_hist.pickle', 'rb') as handle:\n",
    "        hist_dict_model_wide = pickle.load(handle)"
   ]
  },
  {
   "cell_type": "code",
   "execution_count": null,
   "metadata": {},
   "outputs": [],
   "source": [
    "plot_acc_loss_vs_epoch(hist_dict_model_wide, 'NN (wide)', 'nn_wide', plots_path, True, False)\n",
    "plot_acc_loss_vs_epoch(hist_dict_model_wide, 'NN (wide)', 'nn_wide', plots_path, False, True)"
   ]
  },
  {
   "cell_type": "code",
   "execution_count": null,
   "metadata": {},
   "outputs": [],
   "source": [
    "print(\"model_wide %s: %.2f%%\" % (model_wide.metrics_names[1], model_wide.evaluate(X_test,y_test,verbose=0)[1]*100))\n",
    "\n",
    "plot_classifier_1D_output(model_wide.predict(X_test[y_test>0.5], verbose=0), # el\n",
    "                          model_wide.predict(X_test[y_test<0.5], verbose=0), # mu\n",
    "                          'NN (wide)', 'nn_wide', plots_path\n",
    "                         )\n",
    "\n",
    "fpr_model_wide, tpr_model_wide, thresholds_model_wide = roc_curve(y_test, model_wide.predict(X_test, verbose=0))\n",
    "roc_model_wide = [tpr_model_wide, fpr_model_wide, 'NN (wide)', 'nn_wide', 'cyan', '-.']\n",
    "\n",
    "plot_roc([roc_eprob, roc_model_wide], plots_path)"
   ]
  },
  {
   "cell_type": "markdown",
   "metadata": {},
   "source": [
    "## Deep"
   ]
  },
  {
   "cell_type": "code",
   "execution_count": null,
   "metadata": {},
   "outputs": [],
   "source": [
    "fname_model_deep = 'model_deep'\n",
    "train_load_model_deep = train_or_load(models_path+'/'+fname_model_deep+'.h5')"
   ]
  },
  {
   "cell_type": "code",
   "execution_count": null,
   "metadata": {},
   "outputs": [],
   "source": [
    "if train_load_model_deep == 'n':\n",
    "    \n",
    "    # create\n",
    "    model_deep = Sequential()\n",
    "    model_deep.add(Dense(12, input_dim=input_ndimensions, activation='relu'))\n",
    "    model_deep.add(Dense(8, activation='relu'))\n",
    "    model_deep.add(Dense(8, activation='relu'))\n",
    "    model_deep.add(Dense(8, activation='relu'))\n",
    "    model_deep.add(Dense(8, activation='relu'))\n",
    "    model_deep.add(Dense(1, activation='sigmoid'))\n",
    "\n",
    "    model_deep.compile(loss='binary_crossentropy', optimizer='adam', metrics=['accuracy'])\n",
    "\n",
    "    # train\n",
    "    train_start = datetime.now()\n",
    "    hist_model_deep = model_deep.fit(X_train, y_train,\n",
    "                                           epochs=max_epochs, batch_size=50,\n",
    "                                           verbose=fit_verbose, validation_data=val_data);\n",
    "\n",
    "    hist_dict_model_deep = hist_model_deep.history\n",
    "    print(strfdelta(datetime.now()-train_start, \"Training time: {hours} hours, {minutes} minutes, {seconds} seconds\"))\n",
    "\n",
    "    # save model to HDF5, history to pickle\n",
    "    model_deep.save(models_path+'/'+fname_model_deep+'.h5')\n",
    "   \n",
    "    with open(models_path+'/'+fname_model_deep+'_hist.pickle', 'wb') as handle:\n",
    "        pickle.dump(hist_dict_model_deep, handle, protocol=pickle.HIGHEST_PROTOCOL)\n",
    "        \n",
    "else:\n",
    "    # load model from HDF5, history from pickle\n",
    "    model_deep = load_model(models_path+'/'+fname_model_deep+'.h5')\n",
    "    \n",
    "    with open(models_path+'/'+fname_model_deep+'_hist.pickle', 'rb') as handle:\n",
    "        hist_dict_model_deep = pickle.load(handle)"
   ]
  },
  {
   "cell_type": "code",
   "execution_count": null,
   "metadata": {},
   "outputs": [],
   "source": [
    "plot_acc_loss_vs_epoch(hist_dict_model_deep, 'NN (deep)', 'nn_deep', plots_path, True, False)\n",
    "plot_acc_loss_vs_epoch(hist_dict_model_deep, 'NN (deep)', 'nn_deep', plots_path, False, True)"
   ]
  },
  {
   "cell_type": "code",
   "execution_count": null,
   "metadata": {},
   "outputs": [],
   "source": [
    "print(\"model_deep %s: %.2f%%\" % (model_deep.metrics_names[1], model_deep.evaluate(X_test,y_test,verbose=0)[1]*100))\n",
    "\n",
    "plot_classifier_1D_output(model_deep.predict(X_test[y_test>0.5], verbose=0), # el\n",
    "                          model_deep.predict(X_test[y_test<0.5], verbose=0), # mu\n",
    "                          'NN (deep)', 'nn_deep', plots_path\n",
    "                         )\n",
    "\n",
    "fpr_model_deep, tpr_model_deep, thresholds_model_deep = roc_curve(y_test, model_deep.predict(X_test, verbose=0))\n",
    "roc_model_deep = [tpr_model_deep, fpr_model_deep, 'NN (deep)', 'nn_deep', 'darkorange', '--']\n",
    "\n",
    "plot_roc([roc_eprob, roc_model_deep], plots_path)"
   ]
  },
  {
   "cell_type": "markdown",
   "metadata": {},
   "source": [
    "## Compare all models"
   ]
  },
  {
   "cell_type": "code",
   "execution_count": null,
   "metadata": {},
   "outputs": [],
   "source": [
    "all_models = []\n",
    "all_models.append(roc_eprob)\n",
    "all_models.append(roc_svm1)\n",
    "all_models.append(roc_model_default)\n",
    "all_models.append(roc_model_wide)\n",
    "all_models.append(roc_model_deep)\n",
    "\n",
    "plot_roc(all_models, plots_path)\n",
    "\n",
    "roc_model_default_clean = list(roc_model_default)\n",
    "roc_model_default_clean[2] = 'NN'\n",
    "roc_model_default_clean[3] += '_clean'\n",
    "plot_roc([roc_eprob, roc_svm1, roc_model_default_clean], plots_path)"
   ]
  },
  {
   "cell_type": "markdown",
   "metadata": {},
   "source": [
    "## Mutual Information Plots"
   ]
  },
  {
   "cell_type": "markdown",
   "metadata": {},
   "source": [
    "### Training Variables"
   ]
  },
  {
   "cell_type": "code",
   "execution_count": null,
   "metadata": {},
   "outputs": [],
   "source": [
    "if plot_mi: mutual_info_plot(var_names_dict, df_sig, 'Training Vars: $e$', 'train_var_el', plots_path)"
   ]
  },
  {
   "cell_type": "code",
   "execution_count": null,
   "metadata": {},
   "outputs": [],
   "source": [
    "if plot_mi: mutual_info_plot(var_names_dict, df_bkg, 'Training Vars: $\\mu$', 'train_var_mu', plots_path)"
   ]
  },
  {
   "cell_type": "code",
   "execution_count": null,
   "metadata": {},
   "outputs": [],
   "source": [
    "if plot_mi: mutual_info_plot(var_names_dict,\n",
    "                             pd.concat([df_sig, df_bkg]),\n",
    "                             'Training Vars: $e$ & $\\mu$', 'train_var_el_mu', plots_path)"
   ]
  },
  {
   "cell_type": "markdown",
   "metadata": {},
   "source": [
    "### All Variables"
   ]
  },
  {
   "cell_type": "code",
   "execution_count": null,
   "metadata": {},
   "outputs": [],
   "source": [
    "all_vars=[\n",
    "'p',\n",
    "'pT',\n",
    "'eta',\n",
    "'nTRThitsMan',\n",
    "'nTRTouts',\n",
    "'fHTMB',\n",
    "'fAr',\n",
    "'trkOcc',\n",
    "'sumToTsumL',\n",
    "'lep_pT',\n",
    "'phi',\n",
    "'PHF',\n",
    "'NhitsdEdx',\n",
    "'sumToT',\n",
    "'sumL',\n",
    "'nTRThits',\n",
    "'nArhits',\n",
    "'nXehits',\n",
    "'nHThitsMan',\n",
    "'nPrechitsMan',\n",
    "'eProbHT']\n",
    "\n",
    "if plot_mi:\n",
    "    df_sig_all_vars = create_df(sig_file_name, sig_tree, all_vars)\n",
    "    df_bkg_all_vars = create_df(bkg_file_name, bkg_tree, all_vars)"
   ]
  },
  {
   "cell_type": "code",
   "execution_count": null,
   "metadata": {},
   "outputs": [],
   "source": [
    "if plot_mi: mutual_info_plot({var:var for var in all_vars}, df_sig_all_vars, 'All Vars: $e$', 'all_var_el', 'plots')"
   ]
  },
  {
   "cell_type": "code",
   "execution_count": null,
   "metadata": {},
   "outputs": [],
   "source": [
    "if plot_mi: mutual_info_plot({var:var for var in all_vars}, df_bkg_all_vars, 'All Vars: $\\mu$', 'all_var_mu', 'plots')"
   ]
  },
  {
   "cell_type": "code",
   "execution_count": null,
   "metadata": {},
   "outputs": [],
   "source": [
    "if plot_mi: mutual_info_plot({var:var for var in all_vars},\n",
    "                             pd.concat([df_sig_all_vars, df_bkg_all_vars]),\n",
    "                             'All Vars: $e$ & $\\mu$', 'all_var_el_mu', 'plots')"
   ]
  },
  {
   "cell_type": "code",
   "execution_count": null,
   "metadata": {},
   "outputs": [],
   "source": []
  },
  {
   "cell_type": "code",
   "execution_count": null,
   "metadata": {},
   "outputs": [],
   "source": [
    "print(\"Total elapsed time: %s\" % (strfdelta(datetime.now()-time_all_start, \"{hours} hours, {minutes} minutes, {seconds} seconds\")))"
   ]
  },
  {
   "cell_type": "code",
   "execution_count": 109,
   "metadata": {},
   "outputs": [
    {
     "name": "stdout",
     "output_type": "stream",
     "text": [
      "(2.0, 0.816496580927726)\n"
     ]
    }
   ],
   "source": [
    "a = np.array([2, 3, 1])\n",
    "print(a.mean(), a.std())"
   ]
  }
 ],
 "metadata": {
  "kernelspec": {
   "display_name": "Python 2",
   "language": "python",
   "name": "python2"
  },
  "language_info": {
   "codemirror_mode": {
    "name": "ipython",
    "version": 2
   },
   "file_extension": ".py",
   "mimetype": "text/x-python",
   "name": "python",
   "nbconvert_exporter": "python",
   "pygments_lexer": "ipython2",
   "version": "2.7.13"
  }
 },
 "nbformat": 4,
 "nbformat_minor": 2
}
